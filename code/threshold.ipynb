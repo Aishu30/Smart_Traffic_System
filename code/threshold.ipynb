{
 "cells": [
  {
   "cell_type": "code",
   "execution_count": 1,
   "metadata": {
    "collapsed": true
   },
   "outputs": [],
   "source": [
    "import pandas as pd\n",
    "import numpy as np\n",
    "import matplotlib.pyplot as plt\n",
    "%matplotlib inline\n",
    "from sklearn import preprocessing"
   ]
  },
  {
   "cell_type": "code",
   "execution_count": 2,
   "metadata": {},
   "outputs": [
    {
     "data": {
      "text/html": [
       "<div>\n",
       "<style>\n",
       "    .dataframe thead tr:only-child th {\n",
       "        text-align: right;\n",
       "    }\n",
       "\n",
       "    .dataframe thead th {\n",
       "        text-align: left;\n",
       "    }\n",
       "\n",
       "    .dataframe tbody tr th {\n",
       "        vertical-align: top;\n",
       "    }\n",
       "</style>\n",
       "<table border=\"1\" class=\"dataframe\">\n",
       "  <thead>\n",
       "    <tr style=\"text-align: right;\">\n",
       "      <th></th>\n",
       "      <th>count</th>\n",
       "      <th>density</th>\n",
       "    </tr>\n",
       "  </thead>\n",
       "  <tbody>\n",
       "    <tr>\n",
       "      <th>1.0</th>\n",
       "      <td>11</td>\n",
       "      <td>0.679255</td>\n",
       "    </tr>\n",
       "    <tr>\n",
       "      <th>2.0</th>\n",
       "      <td>10</td>\n",
       "      <td>0.553873</td>\n",
       "    </tr>\n",
       "    <tr>\n",
       "      <th>3.0</th>\n",
       "      <td>16</td>\n",
       "      <td>0.699004</td>\n",
       "    </tr>\n",
       "    <tr>\n",
       "      <th>4.0</th>\n",
       "      <td>10</td>\n",
       "      <td>0.658768</td>\n",
       "    </tr>\n",
       "    <tr>\n",
       "      <th>5.0</th>\n",
       "      <td>13</td>\n",
       "      <td>0.691023</td>\n",
       "    </tr>\n",
       "  </tbody>\n",
       "</table>\n",
       "</div>"
      ],
      "text/plain": [
       "     count   density\n",
       "1.0     11  0.679255\n",
       "2.0     10  0.553873\n",
       "3.0     16  0.699004\n",
       "4.0     10  0.658768\n",
       "5.0     13  0.691023"
      ]
     },
     "execution_count": 2,
     "metadata": {},
     "output_type": "execute_result"
    }
   ],
   "source": [
    "data = pd.read_csv(\"traffic.csv\", names = ['file', 'count', 'density'])\n",
    "del(data['file'])\n",
    "data = data[1:]\n",
    "data.head()"
   ]
  },
  {
   "cell_type": "code",
   "execution_count": 3,
   "metadata": {},
   "outputs": [
    {
     "data": {
      "text/plain": [
       "253"
      ]
     },
     "execution_count": 3,
     "metadata": {},
     "output_type": "execute_result"
    }
   ],
   "source": [
    "len(data)"
   ]
  },
  {
   "cell_type": "code",
   "execution_count": 4,
   "metadata": {},
   "outputs": [
    {
     "data": {
      "text/plain": [
       "array([[ 0.625     ,  0.86547634],\n",
       "       [ 0.5625    ,  0.62748897],\n",
       "       [ 0.9375    ,  0.90296282],\n",
       "       [ 0.5625    ,  0.82659095],\n",
       "       [ 0.75      ,  0.88781316],\n",
       "       [ 0.5625    ,  0.94220241],\n",
       "       [ 0.625     ,  0.93768176],\n",
       "       [ 0.875     ,  0.86251567],\n",
       "       [ 0.5       ,  0.81618127],\n",
       "       [ 0.875     ,  0.81609579],\n",
       "       [ 0.5625    ,  0.93313984],\n",
       "       [ 0.6875    ,  0.87513378],\n",
       "       [ 0.75      ,  0.92653017],\n",
       "       [ 0.625     ,  0.86377835],\n",
       "       [ 0.625     ,  0.79722201],\n",
       "       [ 0.75      ,  0.80030885],\n",
       "       [ 0.75      ,  0.83533228],\n",
       "       [ 0.625     ,  0.77616706],\n",
       "       [ 0.5625    ,  0.84043946],\n",
       "       [ 0.75      ,  0.81472975],\n",
       "       [ 0.625     ,  0.95513594],\n",
       "       [ 0.75      ,  0.84565418],\n",
       "       [ 1.        ,  0.96292494],\n",
       "       [ 1.        ,  0.9221546 ],\n",
       "       [ 0.6875    ,  0.6986652 ],\n",
       "       [ 0.8125    ,  0.7570118 ],\n",
       "       [ 0.6875    ,  0.77369561],\n",
       "       [ 0.6875    ,  0.87613749],\n",
       "       [ 0.875     ,  0.92108745],\n",
       "       [ 0.625     ,  0.77076597],\n",
       "       [ 0.5625    ,  0.65996623],\n",
       "       [ 0.8125    ,  0.87623825],\n",
       "       [ 0.5       ,  0.76164552],\n",
       "       [ 0.1875    ,  0.422101  ],\n",
       "       [ 0.5625    ,  0.73268127],\n",
       "       [ 0.3125    ,  0.35007516],\n",
       "       [ 0.25      ,  0.37999888],\n",
       "       [ 0.25      ,  0.39627797],\n",
       "       [ 0.375     ,  0.67126914],\n",
       "       [ 0.375     ,  0.48119654],\n",
       "       [ 0.1875    ,  0.45827724],\n",
       "       [ 0.3125    ,  0.48699719],\n",
       "       [ 0.25      ,  0.43839183],\n",
       "       [ 0.3125    ,  0.36438748],\n",
       "       [ 0.3125    ,  0.36579012],\n",
       "       [ 0.1875    ,  0.36846171],\n",
       "       [ 0.1875    ,  0.3668376 ],\n",
       "       [ 0.25      ,  0.32299419],\n",
       "       [ 0.125     ,  0.21971803],\n",
       "       [ 0.4375    ,  0.49179168],\n",
       "       [ 0.25      ,  0.36170327],\n",
       "       [ 0.25      ,  0.49871961],\n",
       "       [ 0.3125    ,  0.45173598],\n",
       "       [ 0.1875    ,  0.37812792],\n",
       "       [ 0.5       ,  0.45590097],\n",
       "       [ 0.1875    ,  0.23569224],\n",
       "       [ 0.3125    ,  0.35718399],\n",
       "       [ 0.1875    ,  0.35102325],\n",
       "       [ 0.1875    ,  0.26031691],\n",
       "       [ 0.3125    ,  0.35888183],\n",
       "       [ 0.125     ,  0.18603492],\n",
       "       [ 0.1875    ,  0.15408787],\n",
       "       [ 0.1875    ,  0.24102545],\n",
       "       [ 0.1875    ,  0.24984832],\n",
       "       [ 0.1875    ,  0.28316565],\n",
       "       [ 0.25      ,  0.38510359],\n",
       "       [ 0.5       ,  0.39169032],\n",
       "       [ 0.375     ,  0.3664322 ],\n",
       "       [ 0.3125    ,  0.48518426],\n",
       "       [ 0.25      ,  0.25774152],\n",
       "       [ 0.3125    ,  0.28890579],\n",
       "       [ 0.25      ,  0.20255173],\n",
       "       [ 0.3125    ,  0.20773291],\n",
       "       [ 0.4375    ,  0.31257047],\n",
       "       [ 0.1875    ,  0.1470175 ],\n",
       "       [ 0.3125    ,  0.2385018 ],\n",
       "       [ 0.0625    ,  0.        ],\n",
       "       [ 0.25      ,  0.53429746],\n",
       "       [ 0.0625    ,  0.30596737],\n",
       "       [ 0.0625    ,  0.52449126],\n",
       "       [ 0.0625    ,  0.48715796],\n",
       "       [ 0.125     ,  0.41032074],\n",
       "       [ 0.125     ,  0.37563558],\n",
       "       [ 0.125     ,  0.50793533],\n",
       "       [ 0.1875    ,  0.56714957],\n",
       "       [ 0.0625    ,  0.46624541],\n",
       "       [ 0.25      ,  0.61379995],\n",
       "       [ 0.1875    ,  0.46858627],\n",
       "       [ 0.0625    ,  0.32182681],\n",
       "       [ 0.1875    ,  0.34793808],\n",
       "       [ 0.5       ,  0.54741719],\n",
       "       [ 0.375     ,  0.450933  ],\n",
       "       [ 0.4375    ,  0.48423505],\n",
       "       [ 0.4375    ,  0.49212717],\n",
       "       [ 0.3125    ,  0.57172073],\n",
       "       [ 0.3125    ,  0.32871332],\n",
       "       [ 0.25      ,  0.56025719],\n",
       "       [ 0.1875    ,  0.49997222],\n",
       "       [ 0.125     ,  0.3674624 ],\n",
       "       [ 0.0625    ,  0.40946206],\n",
       "       [ 0.0625    ,  0.51404265],\n",
       "       [ 0.1875    ,  0.41874327],\n",
       "       [ 0.0625    ,  0.33584994],\n",
       "       [ 0.3125    ,  0.53092948],\n",
       "       [ 0.1875    ,  0.37055173],\n",
       "       [ 0.3125    ,  0.49828327],\n",
       "       [ 0.25      ,  0.43676775],\n",
       "       [ 0.4375    ,  0.5891892 ],\n",
       "       [ 0.5       ,  0.56044498],\n",
       "       [ 0.1875    ,  0.38738139],\n",
       "       [ 0.3125    ,  0.45241239],\n",
       "       [ 0.375     ,  0.52656107],\n",
       "       [ 0.125     ,  0.50796737],\n",
       "       [ 0.125     ,  0.56572568],\n",
       "       [ 0.125     ,  0.42191862],\n",
       "       [ 0.125     ,  0.44726462],\n",
       "       [ 0.0625    ,  0.40949143],\n",
       "       [ 0.25      ,  0.66045452],\n",
       "       [ 0.1875    ,  0.55034229],\n",
       "       [ 0.3125    ,  0.58775862],\n",
       "       [ 0.1875    ,  0.58069101],\n",
       "       [ 0.1875    ,  0.60595578],\n",
       "       [ 0.1875    ,  0.52866816],\n",
       "       [ 0.3125    ,  0.38864464],\n",
       "       [ 0.4375    ,  0.43582885],\n",
       "       [ 0.375     ,  0.49761756],\n",
       "       [ 0.25      ,  0.37844282],\n",
       "       [ 0.375     ,  0.58398875],\n",
       "       [ 0.5       ,  0.45160588],\n",
       "       [ 0.3125    ,  0.43382885],\n",
       "       [ 0.1875    ,  0.58021304],\n",
       "       [ 0.5625    ,  0.46179054],\n",
       "       [ 0.375     ,  0.52594756],\n",
       "       [ 0.25      ,  0.47262781],\n",
       "       [ 0.5       ,  0.59085187],\n",
       "       [ 0.1875    ,  0.55248938],\n",
       "       [ 0.125     ,  0.58044463],\n",
       "       [ 0.1875    ,  0.63288515],\n",
       "       [ 0.25      ,  0.49937404],\n",
       "       [ 0.125     ,  0.6760771 ],\n",
       "       [ 0.125     ,  0.53704516],\n",
       "       [ 0.125     ,  0.5509676 ],\n",
       "       [ 0.1875    ,  0.43991323],\n",
       "       [ 0.1875    ,  0.58391819],\n",
       "       [ 0.25      ,  0.72959444],\n",
       "       [ 0.1875    ,  0.61457744],\n",
       "       [ 0.1875    ,  0.62208109],\n",
       "       [ 0.5       ,  0.76005302],\n",
       "       [ 0.375     ,  0.69754682],\n",
       "       [ 0.4375    ,  0.70077209],\n",
       "       [ 0.5625    ,  0.6425672 ],\n",
       "       [ 0.        ,  0.46623118],\n",
       "       [ 0.1875    ,  0.58500393],\n",
       "       [ 0.125     ,  0.39526431],\n",
       "       [ 0.375     ,  0.54101737],\n",
       "       [ 0.25      ,  0.58016581],\n",
       "       [ 0.25      ,  0.51572465],\n",
       "       [ 0.25      ,  0.53042839],\n",
       "       [ 0.1875    ,  0.73963303],\n",
       "       [ 0.375     ,  0.70992736],\n",
       "       [ 0.625     ,  0.6803624 ],\n",
       "       [ 0.375     ,  0.58376684],\n",
       "       [ 0.3125    ,  0.43949595],\n",
       "       [ 0.625     ,  0.64462702],\n",
       "       [ 0.5       ,  0.56905155],\n",
       "       [ 0.3125    ,  0.59712064],\n",
       "       [ 0.375     ,  0.52878489],\n",
       "       [ 0.5625    ,  0.61626654],\n",
       "       [ 0.3125    ,  0.50894433],\n",
       "       [ 0.375     ,  0.77515096],\n",
       "       [ 0.4375    ,  0.55925319],\n",
       "       [ 0.4375    ,  0.41495104],\n",
       "       [ 0.3125    ,  0.50864833],\n",
       "       [ 0.375     ,  0.44441637],\n",
       "       [ 0.4375    ,  0.613427  ],\n",
       "       [ 0.4375    ,  0.79347634],\n",
       "       [ 0.75      ,  0.75125489],\n",
       "       [ 0.8125    ,  0.80265417],\n",
       "       [ 0.625     ,  0.78403415],\n",
       "       [ 0.6875    ,  0.61915834],\n",
       "       [ 0.8125    ,  0.83258113],\n",
       "       [ 0.625     ,  0.84322604],\n",
       "       [ 0.5625    ,  0.69396437],\n",
       "       [ 0.5625    ,  0.82840637],\n",
       "       [ 0.75      ,  0.91898608],\n",
       "       [ 0.6875    ,  0.82618379],\n",
       "       [ 0.5       ,  0.95689075],\n",
       "       [ 0.5625    ,  0.87031889],\n",
       "       [ 0.5625    ,  0.80570579],\n",
       "       [ 0.625     ,  0.79085239],\n",
       "       [ 0.4375    ,  0.80468029],\n",
       "       [ 0.5625    ,  0.88129652],\n",
       "       [ 0.4375    ,  0.92817851],\n",
       "       [ 0.4375    ,  0.96754839],\n",
       "       [ 0.6875    ,  0.83101966],\n",
       "       [ 0.8125    ,  0.9169823 ],\n",
       "       [ 0.75      ,  0.93943864],\n",
       "       [ 0.75      ,  0.88280983],\n",
       "       [ 0.75      ,  0.88595128],\n",
       "       [ 0.625     ,  0.97692629],\n",
       "       [ 0.9375    ,  0.87156302],\n",
       "       [ 0.6875    ,  0.92171504],\n",
       "       [ 0.8125    ,  0.90300877],\n",
       "       [ 0.5       ,  0.73413445],\n",
       "       [ 0.625     ,  0.89844249],\n",
       "       [ 0.9375    ,  0.9019638 ],\n",
       "       [ 0.5625    ,  0.92208034],\n",
       "       [ 0.8125    ,  0.80916383],\n",
       "       [ 0.5       ,  0.83773271],\n",
       "       [ 0.4375    ,  0.86430215],\n",
       "       [ 0.5       ,  1.        ],\n",
       "       [ 0.5625    ,  0.94406611],\n",
       "       [ 0.8125    ,  0.99350468],\n",
       "       [ 0.625     ,  0.82152757],\n",
       "       [ 0.6875    ,  0.94956458],\n",
       "       [ 0.5625    ,  0.74008662],\n",
       "       [ 0.8125    ,  0.97473674],\n",
       "       [ 0.5625    ,  0.86880013],\n",
       "       [ 0.6875    ,  0.71643088],\n",
       "       [ 0.6875    ,  0.7703586 ],\n",
       "       [ 1.        ,  0.85448959],\n",
       "       [ 0.6875    ,  0.87526767],\n",
       "       [ 0.8125    ,  0.75675359],\n",
       "       [ 0.625     ,  0.75012458],\n",
       "       [ 0.5625    ,  0.83069781],\n",
       "       [ 0.5625    ,  0.77580745],\n",
       "       [ 0.6875    ,  0.85456859],\n",
       "       [ 0.8125    ,  0.86830267],\n",
       "       [ 0.4375    ,  0.75364703],\n",
       "       [ 0.375     ,  0.64187874],\n",
       "       [ 0.375     ,  0.62917491],\n",
       "       [ 0.375     ,  0.60104405],\n",
       "       [ 0.3125    ,  0.58839562],\n",
       "       [ 0.3125    ,  0.56146952],\n",
       "       [ 0.125     ,  0.50948972],\n",
       "       [ 0.5       ,  0.58090764],\n",
       "       [ 0.3125    ,  0.5321899 ],\n",
       "       [ 0.25      ,  0.49672957],\n",
       "       [ 0.3125    ,  0.22531012],\n",
       "       [ 0.25      ,  0.42743662],\n",
       "       [ 0.375     ,  0.31725362],\n",
       "       [ 0.1875    ,  0.52951939],\n",
       "       [ 0.3125    ,  0.46667818],\n",
       "       [ 0.5       ,  0.50594834],\n",
       "       [ 0.3125    ,  0.67235517],\n",
       "       [ 0.5       ,  0.49600578],\n",
       "       [ 0.0625    ,  0.24038659],\n",
       "       [ 0.375     ,  0.39625747],\n",
       "       [ 0.375     ,  0.38594187],\n",
       "       [ 0.375     ,  0.39385014],\n",
       "       [ 0.4375    ,  0.47233057],\n",
       "       [ 0.25      ,  0.25003212],\n",
       "       [ 0.3125    ,  0.43480129]])"
      ]
     },
     "execution_count": 4,
     "metadata": {},
     "output_type": "execute_result"
    }
   ],
   "source": [
    "from sklearn.preprocessing import minmax_scale\n",
    "values = minmax_scale(data)\n",
    "values"
   ]
  },
  {
   "cell_type": "code",
   "execution_count": 5,
   "metadata": {},
   "outputs": [
    {
     "data": {
      "image/png": "[encoded data removed]",
      "text/plain": [
       "<matplotlib.figure.Figure at 0x17fb2357da0>"
      ]
     },
     "metadata": {},
     "output_type": "display_data"
    }
   ],
   "source": [
    "for i in range(len(values)):\n",
    "    plt.plot(values[i][0], values[i][1], 'bo')\n",
    "plt.xlabel('density')\n",
    "plt.ylabel('count')\n",
    "plt.show()"
   ]
  },
  {
   "cell_type": "code",
   "execution_count": 6,
   "metadata": {
    "collapsed": true
   },
   "outputs": [],
   "source": [
    "from sklearn.cluster import KMeans"
   ]
  },
  {
   "cell_type": "code",
   "execution_count": 7,
   "metadata": {
    "collapsed": true
   },
   "outputs": [],
   "source": [
    "kmeans = KMeans(n_clusters = 3)"
   ]
  },
  {
   "cell_type": "code",
   "execution_count": 8,
   "metadata": {},
   "outputs": [
    {
     "data": {
      "text/plain": [
       "KMeans(algorithm='auto', copy_x=True, init='k-means++', max_iter=300,\n",
       "    n_clusters=3, n_init=10, n_jobs=1, precompute_distances='auto',\n",
       "    random_state=None, tol=0.0001, verbose=0)"
      ]
     },
     "execution_count": 8,
     "metadata": {},
     "output_type": "execute_result"
    }
   ],
   "source": [
    "kmeans.fit(values)"
   ]
  },
  {
   "cell_type": "code",
   "execution_count": 9,
   "metadata": {},
   "outputs": [
    {
     "data": {
      "text/plain": [
       "array([1, 1, 1, 1, 1, 1, 1, 1, 1, 1, 1, 1, 1, 1, 1, 1, 1, 1, 1, 1, 1, 1, 1,\n",
       "       1, 1, 1, 1, 1, 1, 1, 1, 1, 1, 0, 1, 0, 0, 0, 2, 2, 0, 2, 0, 0, 0, 0,\n",
       "       0, 0, 0, 2, 0, 2, 2, 0, 2, 0, 0, 0, 0, 0, 0, 0, 0, 0, 0, 0, 2, 0, 2,\n",
       "       0, 0, 0, 0, 0, 0, 0, 0, 2, 0, 0, 0, 0, 0, 0, 2, 0, 2, 0, 0, 0, 2, 2,\n",
       "       2, 2, 2, 0, 2, 0, 0, 0, 0, 0, 0, 2, 0, 2, 0, 2, 2, 0, 2, 2, 0, 2, 0,\n",
       "       0, 0, 2, 2, 2, 2, 2, 2, 0, 2, 2, 0, 2, 2, 2, 2, 2, 2, 2, 2, 2, 2, 2,\n",
       "       2, 2, 0, 2, 0, 2, 2, 2, 2, 1, 2, 2, 1, 0, 2, 0, 2, 2, 2, 2, 2, 2, 1,\n",
       "       2, 2, 1, 2, 2, 2, 2, 2, 2, 2, 2, 2, 2, 2, 1, 1, 1, 1, 1, 1, 1, 1, 1,\n",
       "       1, 1, 1, 1, 1, 1, 1, 1, 1, 1, 1, 1, 1, 1, 1, 1, 1, 1, 1, 1, 1, 1, 1,\n",
       "       1, 1, 1, 1, 1, 1, 1, 1, 1, 1, 1, 1, 1, 1, 1, 1, 1, 1, 1, 1, 1, 2, 2,\n",
       "       2, 2, 2, 2, 0, 2, 2, 2, 0, 0, 0, 2, 2, 2, 2, 2, 0, 2, 2, 2, 2, 0, 2])"
      ]
     },
     "execution_count": 9,
     "metadata": {},
     "output_type": "execute_result"
    }
   ],
   "source": [
    "kmeans.labels_"
   ]
  },
  {
   "cell_type": "code",
   "execution_count": 10,
   "metadata": {},
   "outputs": [
    {
     "data": {
      "text/plain": [
       "array([[ 0.19375   ,  0.35605863],\n",
       "       [ 0.66964286,  0.83880093],\n",
       "       [ 0.33152174,  0.54836056]])"
      ]
     },
     "execution_count": 10,
     "metadata": {},
     "output_type": "execute_result"
    }
   ],
   "source": [
    "kmeans.cluster_centers_"
   ]
  },
  {
   "cell_type": "code",
   "execution_count": 11,
   "metadata": {},
   "outputs": [
    {
     "data": {
      "text/plain": [
       "array([[ 0.19375   ,  0.35605863],\n",
       "       [ 0.66964286,  0.83880093],\n",
       "       [ 0.33152174,  0.54836056]])"
      ]
     },
     "execution_count": 11,
     "metadata": {},
     "output_type": "execute_result"
    }
   ],
   "source": [
    "labels = kmeans.labels_\n",
    "center = kmeans.cluster_centers_\n",
    "center"
   ]
  },
  {
   "cell_type": "code",
   "execution_count": 12,
   "metadata": {
    "collapsed": true
   },
   "outputs": [],
   "source": [
    "c = [center[i][0]*center[i][1] for i in range(len(center))]\n",
    "d = sorted(c)\n",
    "for i in range(len(labels)):\n",
    "    labels[i] = d.index(c[labels[i]])"
   ]
  },
  {
   "cell_type": "code",
   "execution_count": 13,
   "metadata": {},
   "outputs": [
    {
     "data": {
      "text/plain": [
       "[0.068986359441858228, 0.18179344633135008, 0.56169705027191086]"
      ]
     },
     "execution_count": 13,
     "metadata": {},
     "output_type": "execute_result"
    }
   ],
   "source": [
    "d"
   ]
  },
  {
   "cell_type": "code",
   "execution_count": 14,
   "metadata": {
    "scrolled": true
   },
   "outputs": [
    {
     "data": {
      "text/plain": [
       "array([2, 2, 2, 2, 2, 2, 2, 2, 2, 2, 2, 2, 2, 2, 2, 2, 2, 2, 2, 2, 2, 2, 2,\n",
       "       2, 2, 2, 2, 2, 2, 2, 2, 2, 2, 0, 2, 0, 0, 0, 1, 1, 0, 1, 0, 0, 0, 0,\n",
       "       0, 0, 0, 1, 0, 1, 1, 0, 1, 0, 0, 0, 0, 0, 0, 0, 0, 0, 0, 0, 1, 0, 1,\n",
       "       0, 0, 0, 0, 0, 0, 0, 0, 1, 0, 0, 0, 0, 0, 0, 1, 0, 1, 0, 0, 0, 1, 1,\n",
       "       1, 1, 1, 0, 1, 0, 0, 0, 0, 0, 0, 1, 0, 1, 0, 1, 1, 0, 1, 1, 0, 1, 0,\n",
       "       0, 0, 1, 1, 1, 1, 1, 1, 0, 1, 1, 0, 1, 1, 1, 1, 1, 1, 1, 1, 1, 1, 1,\n",
       "       1, 1, 0, 1, 0, 1, 1, 1, 1, 2, 1, 1, 2, 0, 1, 0, 1, 1, 1, 1, 1, 1, 2,\n",
       "       1, 1, 2, 1, 1, 1, 1, 1, 1, 1, 1, 1, 1, 1, 2, 2, 2, 2, 2, 2, 2, 2, 2,\n",
       "       2, 2, 2, 2, 2, 2, 2, 2, 2, 2, 2, 2, 2, 2, 2, 2, 2, 2, 2, 2, 2, 2, 2,\n",
       "       2, 2, 2, 2, 2, 2, 2, 2, 2, 2, 2, 2, 2, 2, 2, 2, 2, 2, 2, 2, 2, 1, 1,\n",
       "       1, 1, 1, 1, 0, 1, 1, 1, 0, 0, 0, 1, 1, 1, 1, 1, 0, 1, 1, 1, 1, 0, 1])"
      ]
     },
     "execution_count": 14,
     "metadata": {},
     "output_type": "execute_result"
    }
   ],
   "source": [
    "labels"
   ]
  },
  {
   "cell_type": "code",
   "execution_count": 15,
   "metadata": {},
   "outputs": [
    {
     "ename": "NameError",
     "evalue": "name 'value' is not defined",
     "output_type": "error",
     "traceback": [
      "\u001b[1;31m---------------------------------------------------------------------------\u001b[0m",
      "\u001b[1;31mNameError\u001b[0m                                 Traceback (most recent call last)",
      "\u001b[1;32m<ipython-input-15-a28eb16a8cf1>\u001b[0m in \u001b[0;36m<module>\u001b[1;34m()\u001b[0m\n\u001b[0;32m      1\u001b[0m \u001b[0mcolors\u001b[0m \u001b[1;33m=\u001b[0m \u001b[1;33m[\u001b[0m\u001b[1;34m'go'\u001b[0m\u001b[1;33m,\u001b[0m\u001b[1;34m'yo'\u001b[0m\u001b[1;33m,\u001b[0m\u001b[1;34m'ro'\u001b[0m\u001b[1;33m]\u001b[0m\u001b[1;33m\u001b[0m\u001b[0m\n\u001b[1;32m----> 2\u001b[1;33m \u001b[1;32mfor\u001b[0m \u001b[0mi\u001b[0m \u001b[1;32min\u001b[0m \u001b[0mrange\u001b[0m\u001b[1;33m(\u001b[0m\u001b[0mlen\u001b[0m\u001b[1;33m(\u001b[0m\u001b[0mvalue\u001b[0m\u001b[1;33m)\u001b[0m\u001b[1;33m)\u001b[0m\u001b[1;33m:\u001b[0m\u001b[1;33m\u001b[0m\u001b[0m\n\u001b[0m\u001b[0;32m      3\u001b[0m     \u001b[0mplt\u001b[0m\u001b[1;33m.\u001b[0m\u001b[0mplot\u001b[0m\u001b[1;33m(\u001b[0m\u001b[0mvalues\u001b[0m\u001b[1;33m[\u001b[0m\u001b[0mi\u001b[0m\u001b[1;33m]\u001b[0m\u001b[1;33m[\u001b[0m\u001b[1;36m1\u001b[0m\u001b[1;33m]\u001b[0m\u001b[1;33m,\u001b[0m \u001b[0mvalues\u001b[0m\u001b[1;33m[\u001b[0m\u001b[0mi\u001b[0m\u001b[1;33m]\u001b[0m\u001b[1;33m[\u001b[0m\u001b[1;36m0\u001b[0m\u001b[1;33m]\u001b[0m\u001b[1;33m,\u001b[0m \u001b[0mcolors\u001b[0m\u001b[1;33m[\u001b[0m\u001b[0mlabels\u001b[0m\u001b[1;33m[\u001b[0m\u001b[0mi\u001b[0m\u001b[1;33m]\u001b[0m\u001b[1;33m]\u001b[0m\u001b[1;33m)\u001b[0m\u001b[1;33m\u001b[0m\u001b[0m\n\u001b[0;32m      4\u001b[0m \u001b[0mplt\u001b[0m\u001b[1;33m.\u001b[0m\u001b[0mxlabel\u001b[0m\u001b[1;33m(\u001b[0m\u001b[1;34m'density'\u001b[0m\u001b[1;33m)\u001b[0m\u001b[1;33m\u001b[0m\u001b[0m\n\u001b[0;32m      5\u001b[0m \u001b[0mplt\u001b[0m\u001b[1;33m.\u001b[0m\u001b[0mylabel\u001b[0m\u001b[1;33m(\u001b[0m\u001b[1;34m'count'\u001b[0m\u001b[1;33m)\u001b[0m\u001b[1;33m\u001b[0m\u001b[0m\n",
      "\u001b[1;31mNameError\u001b[0m: name 'value' is not defined"
     ]
    }
   ],
   "source": [
    "colors = ['go','yo','ro']\n",
    "for i in range(len(value)):\n",
    "    plt.plot(values[i][1], values[i][0], colors[labels[i]])\n",
    "plt.xlabel('density')\n",
    "plt.ylabel('count')\n",
    "plt.show()"
   ]
  },
  {
   "cell_type": "code",
   "execution_count": 77,
   "metadata": {},
   "outputs": [
    {
     "data": {
      "text/plain": [
       "[[11.0, 0.67925455932314682],\n",
       " [10.0, 0.55387313596386012],\n",
       " [16.0, 0.69900395783506275],\n",
       " [10.0, 0.65876815352108054],\n",
       " [13.0, 0.69102250454640513],\n",
       " [10.0, 0.71967697004537534],\n",
       " [11.0, 0.71729530706551314],\n",
       " [15.0, 0.6776947573130977],\n",
       " [9.0, 0.65328391032466027],\n",
       " [15.0, 0.65323887519800095],\n",
       " [10.0, 0.71490244052948793],\n",
       " [12.0, 0.68434249163144945],\n",
       " [13.0, 0.71142019891267627],\n",
       " [11.0, 0.67835998599859593],\n",
       " [11.0, 0.64329540328370804],\n",
       " [13.0, 0.64492167406973411],\n",
       " [13.0, 0.66337344257925912],\n",
       " [11.0, 0.6322028000657135],\n",
       " [10.0, 0.66606410969670993],\n",
       " [13.0, 0.65251919059302788],\n",
       " [11.0, 0.72649087856319661],\n",
       " [13.0, 0.66881143671270205],\n",
       " [17.0, 0.73059443865195139],\n",
       " [17.0, 0.70911497060501583],\n",
       " [12.0, 0.59137167070553043],\n",
       " [14.0, 0.62211103023233116],\n",
       " [12.0, 0.63090073635258859],\n",
       " [12.0, 0.68487128599174141],\n",
       " [15.0, 0.70855274956966596],\n",
       " [11.0, 0.62935728227522025],\n",
       " [10.0, 0.57098347848877506],\n",
       " [14.0, 0.68492437005200157],\n",
       " [9.0, 0.62455226058459923],\n",
       " [4.0, 0.44566640837350552],\n",
       " [10.0, 0.60929271592934919],\n",
       " [6.0, 0.40772026387360277],\n",
       " [5.0, 0.4234852962405698],\n",
       " [5.0, 0.4320617815973945],\n",
       " [7.0, 0.57693831029177955],\n",
       " [7.0, 0.47680034072412719],\n",
       " [4.0, 0.46472552039599641],\n",
       " [6.0, 0.4798563555293065],\n",
       " [5.0, 0.45424907652545599],\n",
       " [6.0, 0.41526057988581894],\n",
       " [6.0, 0.41599954573636189],\n",
       " [4.0, 0.41740704524334893],\n",
       " [4.0, 0.41655140233437637],\n",
       " [5.0, 0.39345291166703938],\n",
       " [3.0, 0.33904282844840772],\n",
       " [8.0, 0.48238228838870539],\n",
       " [5.0, 0.41384642623125573],\n",
       " [5.0, 0.48603220651265849],\n",
       " [6.0, 0.46127931692988983],\n",
       " [4.0, 0.42249959758949412],\n",
       " [9.0, 0.46347360182117348],\n",
       " [4.0, 0.3474586952200881],\n",
       " [6.0, 0.4114654859423752],\n",
       " [4.0, 0.40821975658266912],\n",
       " [4.0, 0.36043196972995922],\n",
       " [6.0, 0.41235997916491463],\n",
       " [3.0, 0.32129719833491266],\n",
       " [4.0, 0.30446619696045324],\n",
       " [4.0, 0.35026844443448746],\n",
       " [4.0, 0.35491668986243968],\n",
       " [4.0, 0.37246961347537133],\n",
       " [5.0, 0.42617466385613151],\n",
       " [9.0, 0.4296448208197679],\n",
       " [7.0, 0.41633782129006153],\n",
       " [6.0, 0.47890123161401221],\n",
       " [5.0, 0.3590751483073622],\n",
       " [6.0, 0.37549375262107937],\n",
       " [5.0, 0.3299989247106222],\n",
       " [6.0, 0.33272858386172416],\n",
       " [8.0, 0.38796127173909228],\n",
       " [4.0, 0.30074123410854753],\n",
       " [6.0, 0.34893888600585432],\n",
       " [2.0, 0.22328644106544773],\n",
       " [5.0, 0.50477606062427671],\n",
       " [2.0, 0.38448248751375458],\n",
       " [2.0, 0.49960975567250793],\n",
       " [2.0, 0.47994105643803159],\n",
       " [3.0, 0.4394600883488905],\n",
       " [3.0, 0.42118653201415679],\n",
       " [3.0, 0.49088741955890403],\n",
       " [4.0, 0.52208388712757603],\n",
       " [2.0, 0.46892347310896593],\n",
       " [5.0, 0.54666120602050261],\n",
       " [4.0, 0.47015673669576979],\n",
       " [2.0, 0.39283788535287534],\n",
       " [4.0, 0.40659436475162952],\n",
       " [9.0, 0.51168806600971517],\n",
       " [7.0, 0.46085627611104651],\n",
       " [8.0, 0.47840115056894322],\n",
       " [8.0, 0.48255904065129179],\n",
       " [6.0, 0.52449216307497137],\n",
       " [6.0, 0.39646597729266531],\n",
       " [5.0, 0.51845270060553994],\n",
       " [4.0, 0.48669213215281681],\n",
       " [3.0, 0.41688057157306602],\n",
       " [2.0, 0.43900769958959551],\n",
       " [2.0, 0.4941050038294959],\n",
       " [4.0, 0.4438974179952011],\n",
       " [2.0, 0.40022583969096143],\n",
       " [6.0, 0.50300167472593738],\n",
       " [4.0, 0.4185081552493139],\n",
       " [6.0, 0.48580232091399839],\n",
       " [5.0, 0.45339344784907798],\n",
       " [8.0, 0.53369525926558825],\n",
       " [9.0, 0.51855163923103631],\n",
       " [4.0, 0.42737470480359241],\n",
       " [6.0, 0.46163568013217121],\n",
       " [7.0, 0.50070021622221139],\n",
       " [3.0, 0.49090430175761279],\n",
       " [3.0, 0.52133372689929935],\n",
       " [3.0, 0.4455703224244274],\n",
       " [3.0, 0.45892362328920289],\n",
       " [2.0, 0.43902317355260018],\n",
       " [5.0, 0.57124072780420776],\n",
       " [4.0, 0.5132291312535282],\n",
       " [6.0, 0.53294157344067483],\n",
       " [4.0, 0.52921807120098729],\n",
       " [4.0, 0.54252857777762142],\n",
       " [4.0, 0.50181031830044964],\n",
       " [6.0, 0.42804023374188971],\n",
       " [8.0, 0.45289879483211121],\n",
       " [7.0, 0.48545159686997497],\n",
       " [5.0, 0.42266550370402783],\n",
       " [7.0, 0.53095545251935461],\n",
       " [9.0, 0.46121077580997261],\n",
       " [6.0, 0.45184511547648731],\n",
       " [4.0, 0.52896625382991724],\n",
       " [10.0, 0.4665764691864247],\n",
       " [7.0, 0.50037699320774787],\n",
       " [5.0, 0.47228598291512891],\n",
       " [9.0, 0.53457122319524319],\n",
       " [4.0, 0.51436030598405535],\n",
       " [3.0, 0.52908826391755248],\n",
       " [4.0, 0.55671606429804432],\n",
       " [5.0, 0.48637698303458038],\n",
       " [3.0, 0.57947134050687898],\n",
       " [3.0, 0.50622366097828608],\n",
       " [3.0, 0.51355856944678524],\n",
       " [4.0, 0.45505061498717148],\n",
       " [4.0, 0.53091828129324781],\n",
       " [5.0, 0.60766645093348537],\n",
       " [4.0, 0.54707081973962401],\n",
       " [4.0, 0.55102404516237946],\n",
       " [9.0, 0.62371326567725682],\n",
       " [7.0, 0.5907824587110807],\n",
       " [8.0, 0.59248166124302093],\n",
       " [10.0, 0.56181695949127053],\n",
       " [1.0, 0.46891598064334428],\n",
       " [4.0, 0.53149029086769461],\n",
       " [3.0, 0.43152774582168951],\n",
       " [7.0, 0.50831638351506603],\n",
       " [5.0, 0.52894137340259495],\n",
       " [5.0, 0.49499114989328891],\n",
       " [5.0, 0.50273767805847314],\n",
       " [4.0, 0.61295518648136427],\n",
       " [7.0, 0.5973050308053659],\n",
       " [11.0, 0.58172900989706011],\n",
       " [7.0, 0.53083854332225655],\n",
       " [6.0, 0.45483077180964349],\n",
       " [11.0, 0.56290216063355725],\n",
       " [9.0, 0.5230859280960064],\n",
       " [6.0, 0.53787386423586203],\n",
       " [7.0, 0.50187181409540627],\n",
       " [10.0, 0.54796070272219821],\n",
       " [6.0, 0.49141900173918313],\n",
       " [7.0, 0.63166747699962345],\n",
       " [8.0, 0.51792375579348293],\n",
       " [8.0, 0.44189951638582908],\n",
       " [6.0, 0.49126305725051289],\n",
       " [7.0, 0.45742305047576681],\n",
       " [8.0, 0.54646472054732054],\n",
       " [8.0, 0.64132203187057724],\n",
       " [13.0, 0.61907805556883266],\n",
       " [14.0, 0.64615728442750808],\n",
       " [11.0, 0.63634749998251627],\n",
       " [12.0, 0.54948422494708127],\n",
       " [14.0, 0.66192402213928947],\n",
       " [11.0, 0.66753219623408555],\n",
       " [10.0, 0.58889508047870354],\n",
       " [10.0, 0.65972459054867683],\n",
       " [13.0, 0.70744566417668509],\n",
       " [12.0, 0.65855364349196543],\n",
       " [9.0, 0.72741538528876604],\n",
       " [10.0, 0.68180581207854263],\n",
       " [10.0, 0.64776500137297233],\n",
       " [11.0, 0.63993962944407012],\n",
       " [8.0, 0.64722472575701395],\n",
       " [10.0, 0.68758927281267068],\n",
       " [8.0, 0.71228860791887272],\n",
       " [8.0, 0.7330302637025079],\n",
       " [12.0, 0.6611013766288486],\n",
       " [14.0, 0.70638999068357267],\n",
       " [13.0, 0.71822090438177943],\n",
       " [13.0, 0.68838654650489273],\n",
       " [13.0, 0.69004159037591939],\n",
       " [11.0, 0.73797092090148053],\n",
       " [16.0, 0.68246126843338017],\n",
       " [12.0, 0.70888339138083922],\n",
       " [14.0, 0.69902816943941637],\n",
       " [9.0, 0.61005831312760972],\n",
       " [11.0, 0.69662246737169731],\n",
       " [16.0, 0.69847763385838391],\n",
       " [10.0, 0.70907584329443551],\n",
       " [14.0, 0.64958683978645959],\n",
       " [9.0, 0.66463808358194842],\n",
       " [8.0, 0.67863594512648318],\n",
       " [9.0, 0.75012708981543241],\n",
       " [10.0, 0.72065884428015248],\n",
       " [14.0, 0.74670509169745702],\n",
       " [11.0, 0.65610056037808961],\n",
       " [12.0, 0.72355566265177917],\n",
       " [10.0, 0.61319415790326781],\n",
       " [14.0, 0.7368173767680003],\n",
       " [10.0, 0.68100566365797255],\n",
       " [12.0, 0.60073134861146937],\n",
       " [12.0, 0.62914266526978657],\n",
       " [17.0, 0.67346629196972241],\n",
       " [12.0, 0.68441302677801863],\n",
       " [14.0, 0.62197499331293538],\n",
       " [11.0, 0.61848256293112813],\n",
       " [10.0, 0.66093181653183497],\n",
       " [10.0, 0.63201334326350733],\n",
       " [12.0, 0.67350791161666668],\n",
       " [14.0, 0.68074358520134137],\n",
       " [8.0, 0.62033833066255439],\n",
       " [7.0, 0.56145425403319671],\n",
       " [7.0, 0.55476135985518693],\n",
       " [7.0, 0.53994087639016286],\n",
       " [6.0, 0.53327717283033682],\n",
       " [6.0, 0.51909140926951858],\n",
       " [3.0, 0.49170633744889208],\n",
       " [9.0, 0.52933219807571996],\n",
       " [6.0, 0.50366571320827669],\n",
       " [5.0, 0.48498376930705311],\n",
       " [6.0, 0.34198896880662372],\n",
       " [5.0, 0.44847742469838392],\n",
       " [7.0, 0.39042854469600269],\n",
       " [4.0, 0.50225877799511398],\n",
       " [6.0, 0.46915147851541839],\n",
       " [9.0, 0.48984059379980321],\n",
       " [6.0, 0.57751047476138506],\n",
       " [9.0, 0.48460244638009792],\n",
       " [2.0, 0.34993187046069452],\n",
       " [7.0, 0.43205098299578992],\n",
       " [7.0, 0.42661630513384857],\n",
       " [7.0, 0.43078270373143013],\n",
       " [8.0, 0.4721293827382157],\n",
       " [5.0, 0.35501352726590035],\n",
       " [6.0, 0.45235743379571708]]"
      ]
     },
     "execution_count": 77,
     "metadata": {},
     "output_type": "execute_result"
    }
   ],
   "source": [
    "X = []\n",
    "for _,row in data.iterrows():\n",
    "    X.append([row['count'], row['density']])\n",
    "X"
   ]
  },
  {
   "cell_type": "code",
   "execution_count": 78,
   "metadata": {
    "collapsed": true
   },
   "outputs": [],
   "source": [
    "labelled_data = []\n",
    "for i in range(len(values)):\n",
    "    labelled_data.append([X[i][0], X[i][1], labels[i]])"
   ]
  },
  {
   "cell_type": "code",
   "execution_count": 79,
   "metadata": {
    "collapsed": true
   },
   "outputs": [],
   "source": [
    "df = pd.DataFrame(labelled_data)\n",
    "df.to_csv('labelled_data.csv', header=None, index=None)"
   ]
  }
 ],
 "metadata": {
  "kernelspec": {
   "display_name": "Python 3",
   "language": "python",
   "name": "python3"
  },
  "language_info": {
   "codemirror_mode": {
    "name": "ipython",
    "version": 3
   },
   "file_extension": ".py",
   "mimetype": "text/x-python",
   "name": "python",
   "nbconvert_exporter": "python",
   "pygments_lexer": "ipython3",
   "version": "3.6.1"
  }
 },
 "nbformat": 4,
 "nbformat_minor": 2
}
